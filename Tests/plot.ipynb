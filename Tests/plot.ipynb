{
 "cells": [
  {
   "cell_type": "code",
   "execution_count": 1,
   "metadata": {},
   "outputs": [],
   "source": [
    "import numpy as np\n",
    "import matplotlib as plt\n",
    "import matplotlib.pyplot\n",
    "import pandas as pd\n",
    "\n",
    "path_to_data = \"../build/bin/output.csv\""
   ]
  },
  {
   "cell_type": "code",
   "execution_count": 2,
   "metadata": {},
   "outputs": [
    {
     "name": "stdout",
     "output_type": "stream",
     "text": [
      "       Index      Xloc      Yloc  Zloc  Weight      Xdir    Ydir  Zdir  Energy\n",
      "0          0 -5.532500  5.480001   0.0     0.0 -0.000500  0.0005   1.0   100.0\n",
      "1          1 -5.453465  5.480001   0.0     0.0 -0.000493  0.0005   1.0   100.0\n",
      "2          2 -5.374429  5.480001   0.0     0.0 -0.000486  0.0005   1.0   100.0\n",
      "3          3 -5.295393  5.480001   0.0     0.0 -0.000479  0.0005   1.0   100.0\n",
      "4          4 -5.216358  5.480001   0.0     0.0 -0.000471  0.0005   1.0   100.0\n",
      "...      ...       ...       ...   ...     ...       ...     ...   ...     ...\n",
      "19995  19995  3.477572  5.480001   0.0     0.0  0.000314  0.0005   1.0   100.0\n",
      "19996  19996  3.556607  5.480001   0.0     0.0  0.000321  0.0005   1.0   100.0\n",
      "19997  19997  3.635643  5.480001   0.0     0.0  0.000329  0.0005   1.0   100.0\n",
      "19998  19998  3.714679  5.480001   0.0     0.0  0.000336  0.0005   1.0   100.0\n",
      "19999  19999  3.793714  5.480001   0.0     0.0  0.000343  0.0005   1.0   100.0\n",
      "\n",
      "[20000 rows x 9 columns]\n"
     ]
    },
    {
     "data": {
      "text/plain": [
       "(-6.087062716265789, 6.087352075622297, -6.028001260416859, 6.028001260416859)"
      ]
     },
     "execution_count": 2,
     "metadata": {},
     "output_type": "execute_result"
    },
    {
     "data": {
      "image/png": "[encoded data removed]",
      "text/plain": [
       "<Figure size 432x288 with 1 Axes>"
      ]
     },
     "metadata": {
      "needs_background": "light"
     },
     "output_type": "display_data"
    }
   ],
   "source": [
    "data=pd.read_csv(path_to_data, sep=';',header=0)\n",
    "print(data)\n",
    "fig, ax = plt.pyplot.subplots()\n",
    "ax.scatter(data[\"Xloc\"],data[\"Yloc\"], s=0.01)\n",
    "ax.axis('equal')\n",
    "#ax.axis(xmin=-0.03,xmax=0.03, ymin=-0.03, ymax=0.03)"
   ]
  },
  {
   "cell_type": "code",
   "execution_count": null,
   "metadata": {},
   "outputs": [],
   "source": []
  },
  {
   "cell_type": "code",
   "execution_count": null,
   "metadata": {},
   "outputs": [],
   "source": []
  }
 ],
 "metadata": {
  "kernelspec": {
   "display_name": "Python 3",
   "language": "python",
   "name": "python3"
  },
  "language_info": {
   "codemirror_mode": {
    "name": "ipython",
    "version": 3
   },
   "file_extension": ".py",
   "mimetype": "text/x-python",
   "name": "python",
   "nbconvert_exporter": "python",
   "pygments_lexer": "ipython3",
   "version": "3.8.8"
  }
 },
 "nbformat": 4,
 "nbformat_minor": 4
}
