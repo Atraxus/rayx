{
 "cells": [
  {
   "cell_type": "code",
   "execution_count": 12,
   "metadata": {},
   "outputs": [],
   "source": [
    "import numpy as np\n",
    "import matplotlib as plt\n",
    "import matplotlib.pyplot\n",
    "import pandas as pd\n",
    "\n",
    "path_to_data = \"../build/bin/output.csv\""
   ]
  },
  {
   "cell_type": "code",
   "execution_count": 13,
   "metadata": {},
   "outputs": [
    {
     "name": "stdout",
     "output_type": "stream",
     "text": [
      "         Index      Xloc   Yloc  Zloc  Weight      Xdir    Ydir  Zdir\n",
      "0            0 -0.207500  0.155   0.0     1.0 -0.000500  0.0005   1.0\n",
      "1            1 -0.206350  0.155   0.0     1.0 -0.000497  0.0005   1.0\n",
      "2            2 -0.205201  0.155   0.0     1.0 -0.000494  0.0005   1.0\n",
      "3            3 -0.204051  0.155   0.0     1.0 -0.000492  0.0005   1.0\n",
      "4            4 -0.202902  0.155   0.0     1.0 -0.000489  0.0005   1.0\n",
      "...        ...       ...    ...   ...     ...       ...     ...   ...\n",
      "131067  131067 -0.181060  0.155   0.0     1.0 -0.000436  0.0005   1.0\n",
      "131068  131068 -0.179910  0.155   0.0     1.0 -0.000434  0.0005   1.0\n",
      "131069  131069 -0.178760  0.155   0.0     1.0 -0.000431  0.0005   1.0\n",
      "131070  131070 -0.177611  0.155   0.0     1.0 -0.000428  0.0005   1.0\n",
      "131071  131071 -0.176461  0.155   0.0     1.0 -0.000425  0.0005   1.0\n",
      "\n",
      "[131072 rows x 8 columns]\n"
     ]
    },
    {
     "data": {
      "text/plain": [
       "(-0.22825001604166828,\n",
       " 0.22825001604166828,\n",
       " -0.17050004010417266,\n",
       " 0.17050004010417266)"
      ]
     },
     "execution_count": 13,
     "metadata": {},
     "output_type": "execute_result"
    },
    {
     "data": {
      "image/png": "[encoded data removed]",
      "text/plain": [
       "<Figure size 432x288 with 1 Axes>"
      ]
     },
     "metadata": {
      "needs_background": "light"
     },
     "output_type": "display_data"
    }
   ],
   "source": [
    "data=pd.read_csv(path_to_data, sep=';',header=0)\n",
    "print(data)\n",
    "fig, ax = plt.pyplot.subplots()\n",
    "ax.scatter(data[\"Xloc\"],data[\"Yloc\"], s=0.01)\n",
    "ax.axis('equal')\n",
    "#ax.axis(xmin=-0.03,xmax=0.03, ymin=-0.03, ymax=0.03)"
   ]
  },
  {
   "cell_type": "code",
   "execution_count": null,
   "metadata": {},
   "outputs": [],
   "source": []
  },
  {
   "cell_type": "code",
   "execution_count": null,
   "metadata": {},
   "outputs": [],
   "source": []
  }
 ],
 "metadata": {
  "kernelspec": {
   "display_name": "Python 3",
   "language": "python",
   "name": "python3"
  },
  "language_info": {
   "codemirror_mode": {
    "name": "ipython",
    "version": 3
   },
   "file_extension": ".py",
   "mimetype": "text/x-python",
   "name": "python",
   "nbconvert_exporter": "python",
   "pygments_lexer": "ipython3",
   "version": "3.9.5"
  }
 },
 "nbformat": 4,
 "nbformat_minor": 4
}
