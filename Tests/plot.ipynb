{
 "cells": [
  {
   "cell_type": "code",
   "execution_count": 72,
   "metadata": {},
   "outputs": [],
   "source": [
    "import numpy as np\n",
    "import matplotlib as plt\n",
    "import matplotlib.pyplot\n",
    "import pandas as pd\n",
    "\n",
    "path_to_data = \"D:/HZB/rayreworked/build/bin/output.csv\""
   ]
  },
  {
   "cell_type": "code",
   "execution_count": 77,
   "metadata": {},
   "outputs": [
    {
     "name": "stdout",
     "output_type": "stream",
     "text": [
      "         Index         Xloc          Yloc  Zloc  Weight      Xdir      Ydir  \\\n",
      "0            0  -285.960366   1564.434631   0.0     0.0 -0.173996  0.947700   \n",
      "1            1   632.727052  -2927.394015   0.0     0.0  0.208561 -0.967209   \n",
      "2            2   548.676212   -163.726464   0.0     0.0  0.758308 -0.235826   \n",
      "3            3 -1449.719022  -1277.427975   0.0     0.0  0.729938  0.646661   \n",
      "4            4  5649.990557  13047.281954   0.0     0.0  0.397367  0.917138   \n",
      "...        ...          ...           ...   ...     ...       ...       ...   \n",
      "131067  131067  2378.675240  -2795.533322   0.0     0.0  0.642531 -0.756997   \n",
      "131068  131068   332.433775  -3459.904224   0.0     0.0 -0.094699  0.987593   \n",
      "131069  131069   530.772898  -1680.434342   0.0     0.0  0.291206 -0.925740   \n",
      "131070  131070   966.562228   8246.083594   0.0     0.0  0.116350  0.991797   \n",
      "131071  131071  1129.719199    734.906430   0.0     0.0  0.798909  0.514823   \n",
      "\n",
      "            Zdir  \n",
      "0       0.267562  \n",
      "1       0.144946  \n",
      "2       0.607746  \n",
      "3      -0.221407  \n",
      "4       0.030927  \n",
      "...          ...  \n",
      "131067  0.118782  \n",
      "131068 -0.125268  \n",
      "131069  0.241256  \n",
      "131070  0.052933  \n",
      "131071  0.310968  \n",
      "\n",
      "[131072 rows x 8 columns]\n"
     ]
    },
    {
     "data": {
      "text/plain": [
       "(-33503942.926360514,\n",
       " 22279068.573389646,\n",
       " -46607733.44384863,\n",
       " 187415466.1028377)"
      ]
     },
     "execution_count": 77,
     "metadata": {},
     "output_type": "execute_result"
    },
    {
     "data": {
      "image/png": "[encoded data removed]",
      "text/plain": [
       "<Figure size 432x288 with 1 Axes>"
      ]
     },
     "metadata": {
      "needs_background": "light"
     },
     "output_type": "display_data"
    }
   ],
   "source": [
    "data=pd.read_csv(path_to_data, sep=';',header=0)\n",
    "print(data)\n",
    "fig, ax = plt.pyplot.subplots()\n",
    "ax.scatter(data[\"Xloc\"],data[\"Yloc\"], s=0.01)\n",
    "ax.axis('equal')\n",
    "#ax.axis(xmin=-0.03,xmax=0.03, ymin=-0.03, ymax=0.03)"
   ]
  },
  {
   "cell_type": "code",
   "execution_count": null,
   "metadata": {},
   "outputs": [],
   "source": []
  },
  {
   "cell_type": "code",
   "execution_count": null,
   "metadata": {},
   "outputs": [],
   "source": []
  }
 ],
 "metadata": {
  "kernelspec": {
   "display_name": "Python 3",
   "language": "python",
   "name": "python3"
  },
  "language_info": {
   "codemirror_mode": {
    "name": "ipython",
    "version": 3
   },
   "file_extension": ".py",
   "mimetype": "text/x-python",
   "name": "python",
   "nbconvert_exporter": "python",
   "pygments_lexer": "ipython3",
   "version": "3.9.0"
  }
 },
 "nbformat": 4,
 "nbformat_minor": 4
}
